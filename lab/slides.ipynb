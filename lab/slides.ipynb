{
 "cells": [
  {
   "cell_type": "code",
   "execution_count": null,
   "metadata": {
    "slideshow": {
     "slide_type": "notes"
    }
   },
   "outputs": [],
   "source": [
    "% load_ext autoreload\n",
    "% autoreload 2\n",
    "% matplotlib inline\n",
    "\n",
    "import sys\n",
    "import numpy as np\n",
    "import matplotlib.pyplot as plt\n",
    "\n",
    "sys.path.append('..')\n",
    "plt.rcParams['figure.figsize'] = 18, 5"
   ]
  },
  {
   "cell_type": "markdown",
   "metadata": {
    "slideshow": {
     "slide_type": "slide"
    }
   },
   "source": [
    "# MEAN FIELD FRAMEWORK FOR SPIKING NETWORK\n",
    "\n",
    "**Teo Stocco** / supervisor **Alex Seeholzer**"
   ]
  },
  {
   "cell_type": "markdown",
   "metadata": {
    "slideshow": {
     "slide_type": "subslide"
    }
   },
   "source": [
    "## Today's menu\n",
    "\n",
    "1. wrap-up\n",
    "- framework overview\n",
    "- simple cases continued\n",
    "- STP & two populations\n",
    "- full Brunel Wang 2001\n",
    "- conclusion\n"
   ]
  },
  {
   "cell_type": "markdown",
   "metadata": {
    "slideshow": {
     "slide_type": "slide"
    }
   },
   "source": [
    "## 1 Wrap-up\n",
    "\n",
    "- goal: compare meanfield theory *vs* simulation\n",
    "- why: multiple interfaces, error-prone, complex modelling \n",
    "- how: common interface, easily swappable/customizable\n",
    "- under the hood: Brian2 simulator\n",
    "- applied goal: Brunel Wang 2001"
   ]
  },
  {
   "cell_type": "markdown",
   "metadata": {
    "slideshow": {
     "slide_type": "subslide"
    }
   },
   "source": [
    "## Brunel Wang 2001\n",
    "\n",
    "![](img/fig1-brunel-wang-2001.png)"
   ]
  },
  {
   "cell_type": "markdown",
   "metadata": {
    "slideshow": {
     "slide_type": "slide"
    }
   },
   "source": [
    "## 2 Framework overview\n",
    "\n",
    "![](img/overview.svg)"
   ]
  },
  {
   "cell_type": "markdown",
   "metadata": {
    "slideshow": {
     "slide_type": "subslide"
    }
   },
   "source": [
    "## Populations\n",
    "\n",
    "![](img/hierarchy-populations.svg)"
   ]
  },
  {
   "cell_type": "markdown",
   "metadata": {
    "slideshow": {
     "slide_type": "subslide"
    }
   },
   "source": [
    "## Inputs\n",
    "\n",
    "![](img/hierarchy-inputs.svg)"
   ]
  },
  {
   "cell_type": "markdown",
   "metadata": {
    "slideshow": {
     "slide_type": "subslide"
    }
   },
   "source": [
    "## Solver\n",
    "\n",
    "![](img/solver.svg)"
   ]
  },
  {
   "cell_type": "markdown",
   "metadata": {
    "slideshow": {
     "slide_type": "subslide"
    }
   },
   "source": [
    "## Other points\n",
    "\n",
    "- connectivity schemes: all-to-all, all-to-one, probability, etc.\n",
    "- standard parameters\n",
    "- units checking, both theory and simulation\n",
    "- solve for any parameter (e.g. $\\mu$, $v_{mean}$, $g_{AMPA}$), even specific\n",
    "- modelling & plotting utilities\n",
    "\n",
    "**$\\to$ easily extensible**"
   ]
  },
  {
   "cell_type": "code",
   "execution_count": null,
   "metadata": {
    "slideshow": {
     "slide_type": "notes"
    }
   },
   "outputs": [],
   "source": [
    "from brian2.units import *\n",
    "from brian2 import PopulationRateMonitor, defaultclock\n",
    "from meanfield.modelling import seed\n",
    "seed(2)"
   ]
  },
  {
   "cell_type": "markdown",
   "metadata": {
    "slideshow": {
     "slide_type": "slide"
    }
   },
   "source": [
    "## 3 Noise only"
   ]
  },
  {
   "cell_type": "code",
   "execution_count": null,
   "metadata": {},
   "outputs": [],
   "source": [
    "from meanfield import *\n",
    "\n",
    "population = MFLinearPopulation(25, {\n",
    "    PP.GM: 25. * nS,\n",
    "    PP.CM: 0.5 * nF,\n",
    "    PP.VL: -70. * mV,\n",
    "    PP.VTHR: -50. * mV,\n",
    "    PP.VRES: -55. * mV,\n",
    "    PP.TAU_RP: 2. * ms\n",
    "}, name='E pop')\n",
    "\n",
    "MFStaticInput(1000, 2 * Hz, population, {\n",
    "    IP.GM: 2.08 * nS,\n",
    "    IP.VREV: 0 * volt,\n",
    "    IP.TAU: 2. * ms,\n",
    "}, name='noise')\n",
    "\n",
    "system = MFSystem(population)\n",
    "system.graph(details=True)"
   ]
  },
  {
   "cell_type": "code",
   "execution_count": null,
   "metadata": {
    "slideshow": {
     "slide_type": "notes"
    }
   },
   "outputs": [],
   "source": [
    "system.reset_lazyness()"
   ]
  },
  {
   "cell_type": "code",
   "execution_count": null,
   "metadata": {
    "slideshow": {
     "slide_type": "subslide"
    }
   },
   "outputs": [],
   "source": [
    "# simulate\n",
    "monitor = PopulationRateMonitor(population.brian2)\n",
    "net = system.collect_brian2_network(monitor)\n",
    "net.run(5 * second)\n",
    "\n",
    "# extract median by avoiding border effects\n",
    "margin = int(0.5 * second / defaultclock.dt)\n",
    "stable = monitor.smooth_rate(width=20 * ms)[margin:-margin]\n",
    "mu_simu = np.median(stable)\n",
    "mu_simu"
   ]
  },
  {
   "cell_type": "code",
   "execution_count": null,
   "metadata": {
    "slideshow": {
     "slide_type": "fragment"
    }
   },
   "outputs": [],
   "source": [
    "solver = MFSolver.rates_voltages(system, solver='simplex')\n",
    "mu_theo, = solver.run().state\n",
    "mu_theo"
   ]
  },
  {
   "cell_type": "code",
   "execution_count": null,
   "metadata": {
    "slideshow": {
     "slide_type": "subslide"
    }
   },
   "outputs": [],
   "source": [
    "plt.plot(monitor.t, monitor.smooth_rate(width=20 * ms))\n",
    "plt.plot(monitor.t, np.ones_like(monitor.t) * mu_simu, label='simulation')\n",
    "plt.plot(monitor.t, np.ones_like(monitor.t) * mu_theo, label='theory')\n",
    "plt.xlabel('s')\n",
    "plt.ylabel('Hz')\n",
    "plt.legend();"
   ]
  },
  {
   "cell_type": "markdown",
   "metadata": {
    "slideshow": {
     "slide_type": "subslide"
    }
   },
   "source": [
    "## Inhibitory recurrent\n",
    "\n",
    "maybe"
   ]
  },
  {
   "cell_type": "markdown",
   "metadata": {},
   "source": []
  },
  {
   "cell_type": "markdown",
   "metadata": {
    "slideshow": {
     "slide_type": "slide"
    }
   },
   "source": [
    "## 4 STP & Two populations"
   ]
  },
  {
   "cell_type": "code",
   "execution_count": null,
   "metadata": {},
   "outputs": [],
   "source": [
    "from meanfield.zoo import brunel_wang_2001_stp\n",
    "\n",
    "system = brunel_wang_2001_stp.no_subpopulation()\n",
    "system.graph(details=False)"
   ]
  },
  {
   "cell_type": "markdown",
   "metadata": {},
   "source": [
    "## Shape prediction over parameter ranges"
   ]
  },
  {
   "cell_type": "markdown",
   "metadata": {
    "heading_collapsed": true,
    "slideshow": {
     "slide_type": "slide"
    }
   },
   "source": [
    "## 5 Brunel Wang"
   ]
  },
  {
   "cell_type": "markdown",
   "metadata": {
    "slideshow": {
     "slide_type": "slide"
    }
   },
   "source": [
    "## 6 Conclusion\n",
    "\n",
    "- hard to design, it works\n",
    "- easily extendable\n",
    "- abstract away complexities\n",
    "- simple and safe way to model\n",
    "- open source contribution (2 PR, 2 bugs, 1 model)"
   ]
  },
  {
   "cell_type": "markdown",
   "metadata": {
    "slideshow": {
     "slide_type": "subslide"
    }
   },
   "source": [
    "## Known issues\n",
    "\n",
    "- Brian2: speed\n",
    "    - no concurrence, runtime and separate simulations\n",
    "    - slow network building (even c++)\n",
    "    - scalability issues\n",
    "- !! HIGH REGIMES\n",
    "- sometime hard to converge\n",
    "- difficult to test"
   ]
  },
  {
   "cell_type": "markdown",
   "metadata": {
    "slideshow": {
     "slide_type": "subslide"
    }
   },
   "source": [
    "## Further improvements\n",
    "\n",
    "- develop more precise estimations of simulations\n",
    "- more tests, more cases\n",
    "- compare with other theories (e.g. Fourcauld & Brunel)\n",
    "- speed up by better distributing/scheduling\n",
    "- save/load/share models"
   ]
  },
  {
   "cell_type": "markdown",
   "metadata": {
    "slideshow": {
     "slide_type": "slide"
    }
   },
   "source": [
    "## Thanks!\n",
    "\n",
    "Work available and *usable* on Github [flinz/meanfield-suite](https://github.com/flinz/meanfield-suite)."
   ]
  },
  {
   "cell_type": "markdown",
   "metadata": {
    "heading_collapsed": true,
    "slideshow": {
     "slide_type": "subslide"
    }
   },
   "source": [
    "## References\n",
    "\n",
    "- GERSTNER, Wulfram, KISTLER, Werner M., NAUD, Richard, et al. Neuronal dynamics: From single neurons to networks and models of cognition. Cambridge University Press, 2014.\n",
    "- SEEHOLZER, Alexander. Continuous attractor working memory and provenance of channel models. EPFL, 2017.\n",
    "- TSODYKS, Misha, PAWELZIK, Klaus, et MARKRAM, Henry. Neural networks with dynamic synapses. Neural computation, 1998.\n",
    "- FOURCAUD, Nicolas et BRUNEL, Nicolas. Dynamics of the firing probability of noisy integrate-and-fire neurons. Dynamics, 2006. \n",
    "- BRUNEL, Nicolas et WANG, Xiao-Jing. Effects of neuromodulation in a cortical network model of object working memory dominated by recurrent inhibition. Journal of computational neuroscience, 2001. \n",
    "- AMIT, Daniel J. et BRUNEL, Nicolas. Model of global spontaneous activity and local structured activity during delay periods in the cerebral cortex. Cerebral cortex, 1997."
   ]
  }
 ],
 "metadata": {
  "celltoolbar": "Slideshow",
  "kernelspec": {
   "display_name": "Python 3",
   "language": "python",
   "name": "python3"
  },
  "language_info": {
   "codemirror_mode": {
    "name": "ipython",
    "version": 3
   },
   "file_extension": ".py",
   "mimetype": "text/x-python",
   "name": "python",
   "nbconvert_exporter": "python",
   "pygments_lexer": "ipython3",
   "version": "3.6.4"
  },
  "varInspector": {
   "cols": {
    "lenName": 16,
    "lenType": 16,
    "lenVar": 40
   },
   "kernels_config": {
    "python": {
     "delete_cmd_postfix": "",
     "delete_cmd_prefix": "del ",
     "library": "var_list.py",
     "varRefreshCmd": "print(var_dic_list())"
    },
    "r": {
     "delete_cmd_postfix": ") ",
     "delete_cmd_prefix": "rm(",
     "library": "var_list.r",
     "varRefreshCmd": "cat(var_dic_list()) "
    }
   },
   "types_to_exclude": [
    "module",
    "function",
    "builtin_function_or_method",
    "instance",
    "_Feature"
   ],
   "window_display": false
  }
 },
 "nbformat": 4,
 "nbformat_minor": 2
}
